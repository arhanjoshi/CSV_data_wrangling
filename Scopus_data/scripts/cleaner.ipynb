{
 "cells": [
  {
   "cell_type": "code",
   "execution_count": 74,
   "metadata": {},
   "outputs": [],
   "source": [
    "import pandas as pd \n",
    "import os\n",
    "from difflib import SequenceMatcher\n",
    "import ace_tools as tools"
   ]
  },
  {
   "cell_type": "code",
   "execution_count": 3,
   "metadata": {},
   "outputs": [
    {
     "name": "stdout",
     "output_type": "stream",
     "text": [
      "/Users/arhanjoshi/Desktop/Data Analyst Work/CSV_data_wrangling/Scopus_data/scripts\n"
     ]
    }
   ],
   "source": [
    "print(os.getcwd())"
   ]
  },
  {
   "cell_type": "code",
   "execution_count": 75,
   "metadata": {},
   "outputs": [],
   "source": [
    "file_path = r\"../data/processed/Unique Affiliation.xlsx\"\n",
    "df = pd.read_excel(file_path)"
   ]
  },
  {
   "cell_type": "code",
   "execution_count": 76,
   "metadata": {},
   "outputs": [
    {
     "data": {
      "text/html": [
       "<div>\n",
       "<style scoped>\n",
       "    .dataframe tbody tr th:only-of-type {\n",
       "        vertical-align: middle;\n",
       "    }\n",
       "\n",
       "    .dataframe tbody tr th {\n",
       "        vertical-align: top;\n",
       "    }\n",
       "\n",
       "    .dataframe thead th {\n",
       "        text-align: right;\n",
       "    }\n",
       "</style>\n",
       "<table border=\"1\" class=\"dataframe\">\n",
       "  <thead>\n",
       "    <tr style=\"text-align: right;\">\n",
       "      <th></th>\n",
       "      <th>Affiliation</th>\n",
       "      <th>Count</th>\n",
       "      <th>Percentage</th>\n",
       "    </tr>\n",
       "  </thead>\n",
       "  <tbody>\n",
       "    <tr>\n",
       "      <th>0</th>\n",
       "      <td>National Renewable Energy Laboratory, Golden, ...</td>\n",
       "      <td>1936</td>\n",
       "      <td>0.001968</td>\n",
       "    </tr>\n",
       "    <tr>\n",
       "      <th>1</th>\n",
       "      <td>Naval Research Laboratory, Washington, DC 2037...</td>\n",
       "      <td>1701</td>\n",
       "      <td>0.001729</td>\n",
       "    </tr>\n",
       "    <tr>\n",
       "      <th>2</th>\n",
       "      <td>AT and T Bell Laboratories, Murray Hill, NJ 07...</td>\n",
       "      <td>1550</td>\n",
       "      <td>0.001576</td>\n",
       "    </tr>\n",
       "    <tr>\n",
       "      <th>3</th>\n",
       "      <td>Sandia National Laboratories, Albuquerque, NM ...</td>\n",
       "      <td>1453</td>\n",
       "      <td>0.001477</td>\n",
       "    </tr>\n",
       "    <tr>\n",
       "      <th>4</th>\n",
       "      <td>Bell Laboratories, Murray Hill, NJ 07974, Unit...</td>\n",
       "      <td>1311</td>\n",
       "      <td>0.001333</td>\n",
       "    </tr>\n",
       "  </tbody>\n",
       "</table>\n",
       "</div>"
      ],
      "text/plain": [
       "                                         Affiliation  Count Percentage\n",
       "0  National Renewable Energy Laboratory, Golden, ...   1936   0.001968\n",
       "1  Naval Research Laboratory, Washington, DC 2037...   1701   0.001729\n",
       "2  AT and T Bell Laboratories, Murray Hill, NJ 07...   1550   0.001576\n",
       "3  Sandia National Laboratories, Albuquerque, NM ...   1453   0.001477\n",
       "4  Bell Laboratories, Murray Hill, NJ 07974, Unit...   1311   0.001333"
      ]
     },
     "execution_count": 76,
     "metadata": {},
     "output_type": "execute_result"
    }
   ],
   "source": [
    "df.head()"
   ]
  },
  {
   "cell_type": "code",
   "execution_count": null,
   "metadata": {},
   "outputs": [],
   "source": [
    "df['Affiliation'].str.split(',')"
   ]
  },
  {
   "cell_type": "code",
   "execution_count": null,
   "metadata": {},
   "outputs": [],
   "source": [
    "List(df['Affiliation'].iloc[281502: 281504])                     "
   ]
  },
  {
   "cell_type": "code",
   "execution_count": 56,
   "metadata": {},
   "outputs": [
    {
     "data": {
      "text/plain": [
       "['Zyvex Instruments, Richardson, TX, 75081, United States, Siemens Energy and Automation, Arlington, TX, United States',\n",
       " 'Zyvex Instruments, Richardson, TX, 75081, United States']"
      ]
     },
     "execution_count": 56,
     "metadata": {},
     "output_type": "execute_result"
    }
   ],
   "source": [
    "list(df['Affiliation'].iloc[281502: 281504])"
   ]
  },
  {
   "cell_type": "code",
   "execution_count": 21,
   "metadata": {},
   "outputs": [
    {
     "data": {
      "text/plain": [
       "['National Renewable Energy Laboratory, Golden, 80401, CO, United States',\n",
       " 'Naval Research Laboratory, Washington, DC 20375, United States',\n",
       " 'AT and T Bell Laboratories, Murray Hill, NJ 07974, United States',\n",
       " 'Sandia National Laboratories, Albuquerque, NM 87185, United States',\n",
       " 'Bell Laboratories, Murray Hill, NJ 07974, United States']"
      ]
     },
     "execution_count": 21,
     "metadata": {},
     "output_type": "execute_result"
    }
   ],
   "source": [
    "list(df[\"Affiliation\"][:5])"
   ]
  },
  {
   "cell_type": "code",
   "execution_count": 16,
   "metadata": {},
   "outputs": [
    {
     "data": {
      "text/plain": [
       "(281505, 3)"
      ]
     },
     "execution_count": 16,
     "metadata": {},
     "output_type": "execute_result"
    }
   ],
   "source": [
    "df.shape"
   ]
  },
  {
   "cell_type": "code",
   "execution_count": 14,
   "metadata": {},
   "outputs": [
    {
     "data": {
      "text/plain": [
       "Index(['Affiliation', 'Count', 'Percentage'], dtype='object')"
      ]
     },
     "execution_count": 14,
     "metadata": {},
     "output_type": "execute_result"
    }
   ],
   "source": [
    "df['Affiliation'] = df[\"Affiliation\"].fillna(\"\")"
   ]
  },
  {
   "cell_type": "code",
   "execution_count": 15,
   "metadata": {},
   "outputs": [],
   "source": [
    "fields = [\n",
    "    {\"field\": \"Affiliation\", \"type\": \"String\"}\n",
    "]"
   ]
  },
  {
   "cell_type": "code",
   "execution_count": 57,
   "metadata": {},
   "outputs": [
    {
     "data": {
      "text/html": [
       "<div>\n",
       "<style scoped>\n",
       "    .dataframe tbody tr th:only-of-type {\n",
       "        vertical-align: middle;\n",
       "    }\n",
       "\n",
       "    .dataframe tbody tr th {\n",
       "        vertical-align: top;\n",
       "    }\n",
       "\n",
       "    .dataframe thead th {\n",
       "        text-align: right;\n",
       "    }\n",
       "</style>\n",
       "<table border=\"1\" class=\"dataframe\">\n",
       "  <thead>\n",
       "    <tr style=\"text-align: right;\">\n",
       "      <th></th>\n",
       "      <th>Affiliation</th>\n",
       "      <th>Count</th>\n",
       "      <th>Percentage</th>\n",
       "    </tr>\n",
       "  </thead>\n",
       "  <tbody>\n",
       "    <tr>\n",
       "      <th>0</th>\n",
       "      <td>National Renewable Energy Laboratory, Golden, ...</td>\n",
       "      <td>1936</td>\n",
       "      <td>0.001968</td>\n",
       "    </tr>\n",
       "    <tr>\n",
       "      <th>1</th>\n",
       "      <td>Naval Research Laboratory, Washington, DC 2037...</td>\n",
       "      <td>1701</td>\n",
       "      <td>0.001729</td>\n",
       "    </tr>\n",
       "    <tr>\n",
       "      <th>2</th>\n",
       "      <td>AT and T Bell Laboratories, Murray Hill, NJ 07...</td>\n",
       "      <td>1550</td>\n",
       "      <td>0.001576</td>\n",
       "    </tr>\n",
       "    <tr>\n",
       "      <th>3</th>\n",
       "      <td>Sandia National Laboratories, Albuquerque, NM ...</td>\n",
       "      <td>1453</td>\n",
       "      <td>0.001477</td>\n",
       "    </tr>\n",
       "    <tr>\n",
       "      <th>4</th>\n",
       "      <td>Bell Laboratories, Murray Hill, NJ 07974, Unit...</td>\n",
       "      <td>1311</td>\n",
       "      <td>0.001333</td>\n",
       "    </tr>\n",
       "  </tbody>\n",
       "</table>\n",
       "</div>"
      ],
      "text/plain": [
       "                                         Affiliation  Count Percentage\n",
       "0  National Renewable Energy Laboratory, Golden, ...   1936   0.001968\n",
       "1  Naval Research Laboratory, Washington, DC 2037...   1701   0.001729\n",
       "2  AT and T Bell Laboratories, Murray Hill, NJ 07...   1550   0.001576\n",
       "3  Sandia National Laboratories, Albuquerque, NM ...   1453   0.001477\n",
       "4  Bell Laboratories, Murray Hill, NJ 07974, Unit...   1311   0.001333"
      ]
     },
     "execution_count": 57,
     "metadata": {},
     "output_type": "execute_result"
    }
   ],
   "source": [
    "df.head()\n"
   ]
  },
  {
   "cell_type": "code",
   "execution_count": null,
   "metadata": {},
   "outputs": [
    {
     "data": {
      "text/plain": [
       "['National Renewable Energy Laboratory',\n",
       " ' Golden',\n",
       " ' 80401',\n",
       " ' CO',\n",
       " ' United States']"
      ]
     },
     "execution_count": 59,
     "metadata": {},
     "output_type": "execute_result"
    }
   ],
   "source": [
    "affliation = list(df['Affiliation'].str.split(',')[0])\n",
    "affliation"
   ]
  },
  {
   "cell_type": "markdown",
   "metadata": {},
   "source": [
    "first_parts = df['Affiliation'].apply(lambda s: s.split(',')[0])\n"
   ]
  },
  {
   "cell_type": "code",
   "execution_count": 60,
   "metadata": {},
   "outputs": [
    {
     "data": {
      "text/html": [
       "<div>\n",
       "<style scoped>\n",
       "    .dataframe tbody tr th:only-of-type {\n",
       "        vertical-align: middle;\n",
       "    }\n",
       "\n",
       "    .dataframe tbody tr th {\n",
       "        vertical-align: top;\n",
       "    }\n",
       "\n",
       "    .dataframe thead th {\n",
       "        text-align: right;\n",
       "    }\n",
       "</style>\n",
       "<table border=\"1\" class=\"dataframe\">\n",
       "  <thead>\n",
       "    <tr style=\"text-align: right;\">\n",
       "      <th></th>\n",
       "      <th>Affiliation</th>\n",
       "      <th>Count</th>\n",
       "      <th>Percentage</th>\n",
       "    </tr>\n",
       "  </thead>\n",
       "  <tbody>\n",
       "    <tr>\n",
       "      <th>0</th>\n",
       "      <td>National Renewable Energy Laboratory, Golden, ...</td>\n",
       "      <td>1936</td>\n",
       "      <td>0.001968</td>\n",
       "    </tr>\n",
       "    <tr>\n",
       "      <th>1</th>\n",
       "      <td>Naval Research Laboratory, Washington, DC 2037...</td>\n",
       "      <td>1701</td>\n",
       "      <td>0.001729</td>\n",
       "    </tr>\n",
       "    <tr>\n",
       "      <th>2</th>\n",
       "      <td>AT and T Bell Laboratories, Murray Hill, NJ 07...</td>\n",
       "      <td>1550</td>\n",
       "      <td>0.001576</td>\n",
       "    </tr>\n",
       "    <tr>\n",
       "      <th>3</th>\n",
       "      <td>Sandia National Laboratories, Albuquerque, NM ...</td>\n",
       "      <td>1453</td>\n",
       "      <td>0.001477</td>\n",
       "    </tr>\n",
       "    <tr>\n",
       "      <th>4</th>\n",
       "      <td>Bell Laboratories, Murray Hill, NJ 07974, Unit...</td>\n",
       "      <td>1311</td>\n",
       "      <td>0.001333</td>\n",
       "    </tr>\n",
       "  </tbody>\n",
       "</table>\n",
       "</div>"
      ],
      "text/plain": [
       "                                         Affiliation  Count Percentage\n",
       "0  National Renewable Energy Laboratory, Golden, ...   1936   0.001968\n",
       "1  Naval Research Laboratory, Washington, DC 2037...   1701   0.001729\n",
       "2  AT and T Bell Laboratories, Murray Hill, NJ 07...   1550   0.001576\n",
       "3  Sandia National Laboratories, Albuquerque, NM ...   1453   0.001477\n",
       "4  Bell Laboratories, Murray Hill, NJ 07974, Unit...   1311   0.001333"
      ]
     },
     "execution_count": 60,
     "metadata": {},
     "output_type": "execute_result"
    }
   ],
   "source": [
    "df.head()"
   ]
  },
  {
   "cell_type": "code",
   "execution_count": 70,
   "metadata": {},
   "outputs": [],
   "source": [
    "first_parts = df['Affiliation'].apply(lambda s: s.split(',')[0].strip().lower().replace(\" \",\"\").replace('&','and'))"
   ]
  },
  {
   "cell_type": "code",
   "execution_count": 73,
   "metadata": {},
   "outputs": [
    {
     "data": {
      "text/plain": [
       "66659"
      ]
     },
     "execution_count": 73,
     "metadata": {},
     "output_type": "execute_result"
    }
   ],
   "source": [
    "first_parts.nunique()"
   ]
  },
  {
   "cell_type": "code",
   "execution_count": 82,
   "metadata": {},
   "outputs": [],
   "source": [
    "# Sequence Master\n",
    "\n",
    "# convert excel file to csv file and save\n",
    "df_aff_excel = pd.read_excel('../data/processed/Unique Affiliation.xlsx')\n",
    "output_path = '../data/processed/unique_affiliation_uncleaned.csv'\n",
    "to_csv = df_aff.to_csv(output_path, index=False)"
   ]
  },
  {
   "cell_type": "code",
   "execution_count": 86,
   "metadata": {},
   "outputs": [
    {
     "data": {
      "text/html": [
       "<div>\n",
       "<style scoped>\n",
       "    .dataframe tbody tr th:only-of-type {\n",
       "        vertical-align: middle;\n",
       "    }\n",
       "\n",
       "    .dataframe tbody tr th {\n",
       "        vertical-align: top;\n",
       "    }\n",
       "\n",
       "    .dataframe thead th {\n",
       "        text-align: right;\n",
       "    }\n",
       "</style>\n",
       "<table border=\"1\" class=\"dataframe\">\n",
       "  <thead>\n",
       "    <tr style=\"text-align: right;\">\n",
       "      <th></th>\n",
       "      <th>Affiliation</th>\n",
       "      <th>Count</th>\n",
       "      <th>Percentage</th>\n",
       "    </tr>\n",
       "  </thead>\n",
       "  <tbody>\n",
       "    <tr>\n",
       "      <th>0</th>\n",
       "      <td>National Renewable Energy Laboratory, Golden, ...</td>\n",
       "      <td>1936</td>\n",
       "      <td>0.00196822776136458</td>\n",
       "    </tr>\n",
       "    <tr>\n",
       "      <th>1</th>\n",
       "      <td>Naval Research Laboratory, Washington, DC 2037...</td>\n",
       "      <td>1701</td>\n",
       "      <td>0.00172931581719068</td>\n",
       "    </tr>\n",
       "    <tr>\n",
       "      <th>2</th>\n",
       "      <td>AT and T Bell Laboratories, Murray Hill, NJ 07...</td>\n",
       "      <td>1550</td>\n",
       "      <td>0.00157580218497681</td>\n",
       "    </tr>\n",
       "    <tr>\n",
       "      <th>3</th>\n",
       "      <td>Sandia National Laboratories, Albuquerque, NM ...</td>\n",
       "      <td>1453</td>\n",
       "      <td>0.00147718746759439</td>\n",
       "    </tr>\n",
       "    <tr>\n",
       "      <th>4</th>\n",
       "      <td>Bell Laboratories, Murray Hill, NJ 07974, Unit...</td>\n",
       "      <td>1311</td>\n",
       "      <td>0.0013328236545191</td>\n",
       "    </tr>\n",
       "  </tbody>\n",
       "</table>\n",
       "</div>"
      ],
      "text/plain": [
       "                                         Affiliation  Count  \\\n",
       "0  National Renewable Energy Laboratory, Golden, ...   1936   \n",
       "1  Naval Research Laboratory, Washington, DC 2037...   1701   \n",
       "2  AT and T Bell Laboratories, Murray Hill, NJ 07...   1550   \n",
       "3  Sandia National Laboratories, Albuquerque, NM ...   1453   \n",
       "4  Bell Laboratories, Murray Hill, NJ 07974, Unit...   1311   \n",
       "\n",
       "            Percentage  \n",
       "0  0.00196822776136458  \n",
       "1  0.00172931581719068  \n",
       "2  0.00157580218497681  \n",
       "3  0.00147718746759439  \n",
       "4   0.0013328236545191  "
      ]
     },
     "execution_count": 86,
     "metadata": {},
     "output_type": "execute_result"
    }
   ],
   "source": [
    "# load csv\n",
    "df_aff = pd.read_csv('../data/processed/unique_affiliation_uncleaned.csv')\n",
    "df_aff.head()"
   ]
  },
  {
   "cell_type": "code",
   "execution_count": 87,
   "metadata": {},
   "outputs": [],
   "source": [
    "# prepare for clustering deduplication\n",
    "\n",
    "affliation_list = df['Affiliation'].tolist()\n",
    "threshold = 0.90\n",
    "assigned = set()\n",
    "clusters = []"
   ]
  },
  {
   "cell_type": "code",
   "execution_count": null,
   "metadata": {},
   "outputs": [],
   "source": [
    "for aff in affliation_list:\n",
    "    if aff in assigned:\n",
    "        continue\n",
    "    #start new cluster\n",
    "    cluster = [aff]\n",
    "    assigned.add(aff)\n",
    "    for other in affliation_list:\n",
    "        if other in assigned:\n",
    "            continue\n",
    "        if SequenceMatcher(None, aff, other).ratio() >= threshold:\n",
    "            cluster.append(other)\n",
    "            assigned.add(other)\n",
    "    clusters.append(cluster)"
   ]
  },
  {
   "cell_type": "code",
   "execution_count": null,
   "metadata": {},
   "outputs": [],
   "source": [
    "# Build mapping of each original to its canonical form (shortest string)\n",
    "\n",
    "records = []\n",
    "for idx, cluster in enumerate(clusters):\n",
    "    canonical = max(clusters, key=len)\n",
    "    for memeber in cluster:\n",
    "        records.append({\n",
    "            'Original Affiliation': member,\n",
    "            'Canonical Affiliation': canonical,\n",
    "            'Cluster ID': idx\n",
    "        })\n",
    "\n",
    "mapping_df = pd.DataFrame(records)"
   ]
  },
  {
   "cell_type": "code",
   "execution_count": null,
   "metadata": {},
   "outputs": [],
   "source": [
    "# save to excel\n",
    "output_path_excel = '../data/processed/unique_affiliation_dedupe.xslx'\n",
    "mapping_df.to_excel(output_path_excel, index = False)"
   ]
  },
  {
   "cell_type": "code",
   "execution_count": null,
   "metadata": {},
   "outputs": [],
   "source": [
    "# display mapping to user\n",
    "tools.display_dataframe_to_user(\"Deduplicated Affiliation Mapping\", mapping_df)\n",
    "\n",
    "print(f\"Excel file created: {output_path_excel}\")"
   ]
  }
 ],
 "metadata": {
  "kernelspec": {
   "display_name": "Python 3",
   "language": "python",
   "name": "python3"
  },
  "language_info": {
   "codemirror_mode": {
    "name": "ipython",
    "version": 3
   },
   "file_extension": ".py",
   "mimetype": "text/x-python",
   "name": "python",
   "nbconvert_exporter": "python",
   "pygments_lexer": "ipython3",
   "version": "3.12.6"
  }
 },
 "nbformat": 4,
 "nbformat_minor": 2
}
