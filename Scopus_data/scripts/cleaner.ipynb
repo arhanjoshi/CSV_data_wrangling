{
 "cells": [
  {
   "cell_type": "code",
   "execution_count": 5,
   "metadata": {},
   "outputs": [],
   "source": [
    "import pandas as pd \n",
    "import os\n",
    "from difflib import SequenceMatcher\n",
    "#import ace_tools as tools"
   ]
  },
  {
   "cell_type": "code",
   "execution_count": 6,
   "metadata": {},
   "outputs": [
    {
     "name": "stdout",
     "output_type": "stream",
     "text": [
      "/Users/arhanjoshi/Desktop/Data Analyst Work/CSV_data_wrangling/Scopus_data/scripts\n"
     ]
    }
   ],
   "source": [
    "print(os.getcwd())"
   ]
  },
  {
   "cell_type": "code",
   "execution_count": 7,
   "metadata": {},
   "outputs": [],
   "source": [
    "file_path = r\"../data/processed/Unique Affiliation.xlsx\"\n",
    "df = pd.read_excel(file_path)"
   ]
  },
  {
   "cell_type": "code",
   "execution_count": 5,
   "metadata": {},
   "outputs": [
    {
     "data": {
      "text/html": [
       "<div>\n",
       "<style scoped>\n",
       "    .dataframe tbody tr th:only-of-type {\n",
       "        vertical-align: middle;\n",
       "    }\n",
       "\n",
       "    .dataframe tbody tr th {\n",
       "        vertical-align: top;\n",
       "    }\n",
       "\n",
       "    .dataframe thead th {\n",
       "        text-align: right;\n",
       "    }\n",
       "</style>\n",
       "<table border=\"1\" class=\"dataframe\">\n",
       "  <thead>\n",
       "    <tr style=\"text-align: right;\">\n",
       "      <th></th>\n",
       "      <th>Affiliation</th>\n",
       "      <th>Count</th>\n",
       "      <th>Percentage</th>\n",
       "    </tr>\n",
       "  </thead>\n",
       "  <tbody>\n",
       "    <tr>\n",
       "      <th>0</th>\n",
       "      <td>National Renewable Energy Laboratory, Golden, ...</td>\n",
       "      <td>1936</td>\n",
       "      <td>0.001968</td>\n",
       "    </tr>\n",
       "    <tr>\n",
       "      <th>1</th>\n",
       "      <td>Naval Research Laboratory, Washington, DC 2037...</td>\n",
       "      <td>1701</td>\n",
       "      <td>0.001729</td>\n",
       "    </tr>\n",
       "    <tr>\n",
       "      <th>2</th>\n",
       "      <td>AT and T Bell Laboratories, Murray Hill, NJ 07...</td>\n",
       "      <td>1550</td>\n",
       "      <td>0.001576</td>\n",
       "    </tr>\n",
       "    <tr>\n",
       "      <th>3</th>\n",
       "      <td>Sandia National Laboratories, Albuquerque, NM ...</td>\n",
       "      <td>1453</td>\n",
       "      <td>0.001477</td>\n",
       "    </tr>\n",
       "    <tr>\n",
       "      <th>4</th>\n",
       "      <td>Bell Laboratories, Murray Hill, NJ 07974, Unit...</td>\n",
       "      <td>1311</td>\n",
       "      <td>0.001333</td>\n",
       "    </tr>\n",
       "  </tbody>\n",
       "</table>\n",
       "</div>"
      ],
      "text/plain": [
       "                                         Affiliation  Count Percentage\n",
       "0  National Renewable Energy Laboratory, Golden, ...   1936   0.001968\n",
       "1  Naval Research Laboratory, Washington, DC 2037...   1701   0.001729\n",
       "2  AT and T Bell Laboratories, Murray Hill, NJ 07...   1550   0.001576\n",
       "3  Sandia National Laboratories, Albuquerque, NM ...   1453   0.001477\n",
       "4  Bell Laboratories, Murray Hill, NJ 07974, Unit...   1311   0.001333"
      ]
     },
     "execution_count": 5,
     "metadata": {},
     "output_type": "execute_result"
    }
   ],
   "source": [
    "df.head()"
   ]
  },
  {
   "cell_type": "code",
   "execution_count": null,
   "metadata": {},
   "outputs": [],
   "source": [
    "df['Affiliation'].str.split(',')"
   ]
  },
  {
   "cell_type": "code",
   "execution_count": null,
   "metadata": {},
   "outputs": [],
   "source": [
    "List(df['Affiliation'].iloc[281502: 281504])                     "
   ]
  },
  {
   "cell_type": "code",
   "execution_count": 56,
   "metadata": {},
   "outputs": [
    {
     "data": {
      "text/plain": [
       "['Zyvex Instruments, Richardson, TX, 75081, United States, Siemens Energy and Automation, Arlington, TX, United States',\n",
       " 'Zyvex Instruments, Richardson, TX, 75081, United States']"
      ]
     },
     "execution_count": 56,
     "metadata": {},
     "output_type": "execute_result"
    }
   ],
   "source": [
    "list(df['Affiliation'].iloc[281502: 281504])"
   ]
  },
  {
   "cell_type": "code",
   "execution_count": 21,
   "metadata": {},
   "outputs": [
    {
     "data": {
      "text/plain": [
       "['National Renewable Energy Laboratory, Golden, 80401, CO, United States',\n",
       " 'Naval Research Laboratory, Washington, DC 20375, United States',\n",
       " 'AT and T Bell Laboratories, Murray Hill, NJ 07974, United States',\n",
       " 'Sandia National Laboratories, Albuquerque, NM 87185, United States',\n",
       " 'Bell Laboratories, Murray Hill, NJ 07974, United States']"
      ]
     },
     "execution_count": 21,
     "metadata": {},
     "output_type": "execute_result"
    }
   ],
   "source": [
    "list(df[\"Affiliation\"][:5])"
   ]
  },
  {
   "cell_type": "code",
   "execution_count": 16,
   "metadata": {},
   "outputs": [
    {
     "data": {
      "text/plain": [
       "(281505, 3)"
      ]
     },
     "execution_count": 16,
     "metadata": {},
     "output_type": "execute_result"
    }
   ],
   "source": [
    "df.shape"
   ]
  },
  {
   "cell_type": "code",
   "execution_count": 57,
   "metadata": {},
   "outputs": [
    {
     "data": {
      "text/html": [
       "<div>\n",
       "<style scoped>\n",
       "    .dataframe tbody tr th:only-of-type {\n",
       "        vertical-align: middle;\n",
       "    }\n",
       "\n",
       "    .dataframe tbody tr th {\n",
       "        vertical-align: top;\n",
       "    }\n",
       "\n",
       "    .dataframe thead th {\n",
       "        text-align: right;\n",
       "    }\n",
       "</style>\n",
       "<table border=\"1\" class=\"dataframe\">\n",
       "  <thead>\n",
       "    <tr style=\"text-align: right;\">\n",
       "      <th></th>\n",
       "      <th>Affiliation</th>\n",
       "      <th>Count</th>\n",
       "      <th>Percentage</th>\n",
       "    </tr>\n",
       "  </thead>\n",
       "  <tbody>\n",
       "    <tr>\n",
       "      <th>0</th>\n",
       "      <td>National Renewable Energy Laboratory, Golden, ...</td>\n",
       "      <td>1936</td>\n",
       "      <td>0.001968</td>\n",
       "    </tr>\n",
       "    <tr>\n",
       "      <th>1</th>\n",
       "      <td>Naval Research Laboratory, Washington, DC 2037...</td>\n",
       "      <td>1701</td>\n",
       "      <td>0.001729</td>\n",
       "    </tr>\n",
       "    <tr>\n",
       "      <th>2</th>\n",
       "      <td>AT and T Bell Laboratories, Murray Hill, NJ 07...</td>\n",
       "      <td>1550</td>\n",
       "      <td>0.001576</td>\n",
       "    </tr>\n",
       "    <tr>\n",
       "      <th>3</th>\n",
       "      <td>Sandia National Laboratories, Albuquerque, NM ...</td>\n",
       "      <td>1453</td>\n",
       "      <td>0.001477</td>\n",
       "    </tr>\n",
       "    <tr>\n",
       "      <th>4</th>\n",
       "      <td>Bell Laboratories, Murray Hill, NJ 07974, Unit...</td>\n",
       "      <td>1311</td>\n",
       "      <td>0.001333</td>\n",
       "    </tr>\n",
       "  </tbody>\n",
       "</table>\n",
       "</div>"
      ],
      "text/plain": [
       "                                         Affiliation  Count Percentage\n",
       "0  National Renewable Energy Laboratory, Golden, ...   1936   0.001968\n",
       "1  Naval Research Laboratory, Washington, DC 2037...   1701   0.001729\n",
       "2  AT and T Bell Laboratories, Murray Hill, NJ 07...   1550   0.001576\n",
       "3  Sandia National Laboratories, Albuquerque, NM ...   1453   0.001477\n",
       "4  Bell Laboratories, Murray Hill, NJ 07974, Unit...   1311   0.001333"
      ]
     },
     "execution_count": 57,
     "metadata": {},
     "output_type": "execute_result"
    }
   ],
   "source": [
    "df.head()\n"
   ]
  },
  {
   "cell_type": "code",
   "execution_count": null,
   "metadata": {},
   "outputs": [
    {
     "data": {
      "text/plain": [
       "['National Renewable Energy Laboratory',\n",
       " ' Golden',\n",
       " ' 80401',\n",
       " ' CO',\n",
       " ' United States']"
      ]
     },
     "execution_count": 59,
     "metadata": {},
     "output_type": "execute_result"
    }
   ],
   "source": [
    "affliation = list(df['Affiliation'].str.split(',')[0])\n",
    "affliation"
   ]
  },
  {
   "cell_type": "markdown",
   "metadata": {},
   "source": [
    "first_parts = df['Affiliation'].apply(lambda s: s.split(',')[0])\n"
   ]
  },
  {
   "cell_type": "code",
   "execution_count": 60,
   "metadata": {},
   "outputs": [
    {
     "data": {
      "text/html": [
       "<div>\n",
       "<style scoped>\n",
       "    .dataframe tbody tr th:only-of-type {\n",
       "        vertical-align: middle;\n",
       "    }\n",
       "\n",
       "    .dataframe tbody tr th {\n",
       "        vertical-align: top;\n",
       "    }\n",
       "\n",
       "    .dataframe thead th {\n",
       "        text-align: right;\n",
       "    }\n",
       "</style>\n",
       "<table border=\"1\" class=\"dataframe\">\n",
       "  <thead>\n",
       "    <tr style=\"text-align: right;\">\n",
       "      <th></th>\n",
       "      <th>Affiliation</th>\n",
       "      <th>Count</th>\n",
       "      <th>Percentage</th>\n",
       "    </tr>\n",
       "  </thead>\n",
       "  <tbody>\n",
       "    <tr>\n",
       "      <th>0</th>\n",
       "      <td>National Renewable Energy Laboratory, Golden, ...</td>\n",
       "      <td>1936</td>\n",
       "      <td>0.001968</td>\n",
       "    </tr>\n",
       "    <tr>\n",
       "      <th>1</th>\n",
       "      <td>Naval Research Laboratory, Washington, DC 2037...</td>\n",
       "      <td>1701</td>\n",
       "      <td>0.001729</td>\n",
       "    </tr>\n",
       "    <tr>\n",
       "      <th>2</th>\n",
       "      <td>AT and T Bell Laboratories, Murray Hill, NJ 07...</td>\n",
       "      <td>1550</td>\n",
       "      <td>0.001576</td>\n",
       "    </tr>\n",
       "    <tr>\n",
       "      <th>3</th>\n",
       "      <td>Sandia National Laboratories, Albuquerque, NM ...</td>\n",
       "      <td>1453</td>\n",
       "      <td>0.001477</td>\n",
       "    </tr>\n",
       "    <tr>\n",
       "      <th>4</th>\n",
       "      <td>Bell Laboratories, Murray Hill, NJ 07974, Unit...</td>\n",
       "      <td>1311</td>\n",
       "      <td>0.001333</td>\n",
       "    </tr>\n",
       "  </tbody>\n",
       "</table>\n",
       "</div>"
      ],
      "text/plain": [
       "                                         Affiliation  Count Percentage\n",
       "0  National Renewable Energy Laboratory, Golden, ...   1936   0.001968\n",
       "1  Naval Research Laboratory, Washington, DC 2037...   1701   0.001729\n",
       "2  AT and T Bell Laboratories, Murray Hill, NJ 07...   1550   0.001576\n",
       "3  Sandia National Laboratories, Albuquerque, NM ...   1453   0.001477\n",
       "4  Bell Laboratories, Murray Hill, NJ 07974, Unit...   1311   0.001333"
      ]
     },
     "execution_count": 60,
     "metadata": {},
     "output_type": "execute_result"
    }
   ],
   "source": [
    "df.head()"
   ]
  },
  {
   "cell_type": "code",
   "execution_count": 70,
   "metadata": {},
   "outputs": [],
   "source": [
    "first_parts = df['Affiliation'].apply(lambda s: s.split(',')[0].strip().lower().replace(\" \",\"\").replace('&','and'))"
   ]
  },
  {
   "cell_type": "code",
   "execution_count": 73,
   "metadata": {},
   "outputs": [
    {
     "data": {
      "text/plain": [
       "66659"
      ]
     },
     "execution_count": 73,
     "metadata": {},
     "output_type": "execute_result"
    }
   ],
   "source": [
    "first_parts.nunique()"
   ]
  },
  {
   "cell_type": "code",
   "execution_count": 8,
   "metadata": {},
   "outputs": [],
   "source": [
    "# Sequence Master\n",
    "\n",
    "# convert excel file to csv file and save\n",
    "df_aff_excel = pd.read_excel('../data/processed/Unique Affiliation.xlsx')\n",
    "output_path = '../data/processed/unique_affiliation_uncleaned.csv'\n",
    "to_csv = df_aff_excel.to_csv(output_path, index=False)\n"
   ]
  },
  {
   "cell_type": "code",
   "execution_count": 9,
   "metadata": {},
   "outputs": [
    {
     "data": {
      "text/html": [
       "<div>\n",
       "<style scoped>\n",
       "    .dataframe tbody tr th:only-of-type {\n",
       "        vertical-align: middle;\n",
       "    }\n",
       "\n",
       "    .dataframe tbody tr th {\n",
       "        vertical-align: top;\n",
       "    }\n",
       "\n",
       "    .dataframe thead th {\n",
       "        text-align: right;\n",
       "    }\n",
       "</style>\n",
       "<table border=\"1\" class=\"dataframe\">\n",
       "  <thead>\n",
       "    <tr style=\"text-align: right;\">\n",
       "      <th></th>\n",
       "      <th>Affiliation</th>\n",
       "      <th>Count</th>\n",
       "      <th>Percentage</th>\n",
       "    </tr>\n",
       "  </thead>\n",
       "  <tbody>\n",
       "    <tr>\n",
       "      <th>0</th>\n",
       "      <td>National Renewable Energy Laboratory, Golden, ...</td>\n",
       "      <td>1936</td>\n",
       "      <td>0.00196822776136458</td>\n",
       "    </tr>\n",
       "    <tr>\n",
       "      <th>1</th>\n",
       "      <td>Naval Research Laboratory, Washington, DC 2037...</td>\n",
       "      <td>1701</td>\n",
       "      <td>0.00172931581719068</td>\n",
       "    </tr>\n",
       "    <tr>\n",
       "      <th>2</th>\n",
       "      <td>AT and T Bell Laboratories, Murray Hill, NJ 07...</td>\n",
       "      <td>1550</td>\n",
       "      <td>0.00157580218497681</td>\n",
       "    </tr>\n",
       "    <tr>\n",
       "      <th>3</th>\n",
       "      <td>Sandia National Laboratories, Albuquerque, NM ...</td>\n",
       "      <td>1453</td>\n",
       "      <td>0.00147718746759439</td>\n",
       "    </tr>\n",
       "    <tr>\n",
       "      <th>4</th>\n",
       "      <td>Bell Laboratories, Murray Hill, NJ 07974, Unit...</td>\n",
       "      <td>1311</td>\n",
       "      <td>0.0013328236545191</td>\n",
       "    </tr>\n",
       "  </tbody>\n",
       "</table>\n",
       "</div>"
      ],
      "text/plain": [
       "                                         Affiliation  Count  \\\n",
       "0  National Renewable Energy Laboratory, Golden, ...   1936   \n",
       "1  Naval Research Laboratory, Washington, DC 2037...   1701   \n",
       "2  AT and T Bell Laboratories, Murray Hill, NJ 07...   1550   \n",
       "3  Sandia National Laboratories, Albuquerque, NM ...   1453   \n",
       "4  Bell Laboratories, Murray Hill, NJ 07974, Unit...   1311   \n",
       "\n",
       "            Percentage  \n",
       "0  0.00196822776136458  \n",
       "1  0.00172931581719068  \n",
       "2  0.00157580218497681  \n",
       "3  0.00147718746759439  \n",
       "4   0.0013328236545191  "
      ]
     },
     "execution_count": 9,
     "metadata": {},
     "output_type": "execute_result"
    }
   ],
   "source": [
    "# load csv\n",
    "df_aff = pd.read_csv('../data/processed/unique_affiliation_uncleaned.csv')\n",
    "df_aff.head()"
   ]
  },
  {
   "cell_type": "code",
   "execution_count": 11,
   "metadata": {},
   "outputs": [
    {
     "name": "stdout",
     "output_type": "stream",
     "text": [
      "                                         Affiliation  Count  \\\n",
      "0  National Renewable Energy Laboratory, Golden, ...   1936   \n",
      "1  Naval Research Laboratory, Washington, DC 2037...   1701   \n",
      "2  AT and T Bell Laboratories, Murray Hill, NJ 07...   1550   \n",
      "3  Sandia National Laboratories, Albuquerque, NM ...   1453   \n",
      "4  Bell Laboratories, Murray Hill, NJ 07974, Unit...   1311   \n",
      "\n",
      "            Percentage  \n",
      "0  0.00196822776136458  \n",
      "1  0.00172931581719068  \n",
      "2  0.00157580218497681  \n",
      "3  0.00147718746759439  \n",
      "4   0.0013328236545191  \n",
      "                                           Affiliation  Count Percentage\n",
      "995  Department of Physics and Astronomy, Optical S...     67      <0.1%\n",
      "996  Department of Physics and Astronomy, Universit...     67      <0.1%\n",
      "997  Department of Physics and Astronomy, Universit...     67      <0.1%\n",
      "998  Department of Physics, Carnegie Mellon Univers...     67      <0.1%\n",
      "999  Department of Physics, Northeastern University...     67      <0.1%\n"
     ]
    }
   ],
   "source": [
    "# take sample 1 (0-999)\n",
    "sample_df = df_aff.iloc[:1000].copy()\n",
    "print(sample_df.head())\n",
    "print(sample_df.tail())"
   ]
  },
  {
   "cell_type": "code",
   "execution_count": 10,
   "metadata": {},
   "outputs": [
    {
     "ename": "NameError",
     "evalue": "name 'sample_df' is not defined",
     "output_type": "error",
     "traceback": [
      "\u001b[0;31m---------------------------------------------------------------------------\u001b[0m",
      "\u001b[0;31mNameError\u001b[0m                                 Traceback (most recent call last)",
      "Cell \u001b[0;32mIn[10], line 3\u001b[0m\n\u001b[1;32m      1\u001b[0m \u001b[38;5;66;03m# prepare for clustering deduplication\u001b[39;00m\n\u001b[0;32m----> 3\u001b[0m affliation_list \u001b[38;5;241m=\u001b[39m sample_df[\u001b[38;5;124m'\u001b[39m\u001b[38;5;124mAffiliation\u001b[39m\u001b[38;5;124m'\u001b[39m]\u001b[38;5;241m.\u001b[39mtolist() \u001b[38;5;66;03m#for sample of 1000 data entries.\u001b[39;00m\n\u001b[1;32m      4\u001b[0m threshold \u001b[38;5;241m=\u001b[39m \u001b[38;5;241m0.90\u001b[39m\n\u001b[1;32m      5\u001b[0m assigned \u001b[38;5;241m=\u001b[39m \u001b[38;5;28mset\u001b[39m()\n",
      "\u001b[0;31mNameError\u001b[0m: name 'sample_df' is not defined"
     ]
    }
   ],
   "source": [
    "# prepare for clustering deduplication\n",
    "\n",
    "affliation_list = sample_df['Affiliation'].tolist() #for sample of 1000 data entries.\n",
    "threshold = 0.90\n",
    "assigned = set()\n",
    "clusters = []"
   ]
  },
  {
   "cell_type": "code",
   "execution_count": 15,
   "metadata": {},
   "outputs": [],
   "source": [
    "# main cluster here\n",
    "\n",
    "for aff in affliation_list:\n",
    "    if aff in assigned:\n",
    "        continue\n",
    "    #start new cluster\n",
    "    cluster = [aff]\n",
    "    assigned.add(aff)\n",
    "    for other in affliation_list:\n",
    "        if other in assigned:\n",
    "            continue\n",
    "        if SequenceMatcher(None, aff, other).ratio() >= threshold:\n",
    "            cluster.append(other)\n",
    "            assigned.add(other)\n",
    "    clusters.append(cluster)"
   ]
  },
  {
   "cell_type": "code",
   "execution_count": 49,
   "metadata": {},
   "outputs": [],
   "source": [
    "# Build mapping of each original to its canonical form (shortest string)\n",
    "\n",
    "records = []\n",
    "for idx, cluster in enumerate(clusters):\n",
    "    canonical = min(cluster, key=len)\n",
    "    for member in cluster:\n",
    "        records.append({\n",
    "            'Original Affiliation': member,\n",
    "            'Canonical Affiliation': canonical,\n",
    "            'Cluster ID': idx\n",
    "        })\n",
    "\n",
    "mapping_df = pd.DataFrame(records)"
   ]
  },
  {
   "cell_type": "code",
   "execution_count": 50,
   "metadata": {},
   "outputs": [],
   "source": [
    "# save to excel\n",
    "output_path_excel = '../data/output/unique_affiliation_dedupe.csv'\n",
    "mapping_df.to_csv(output_path_excel, index = False)"
   ]
  },
  {
   "cell_type": "code",
   "execution_count": 12,
   "metadata": {},
   "outputs": [
    {
     "name": "stdout",
     "output_type": "stream",
     "text": [
      "                                            Affiliation  Count Percentage\n",
      "1000  Department of Physics, The Ohio State Universi...     67      <0.1%\n",
      "1001  Electrical Engineering, Stanford University, S...     67      <0.1%\n",
      "1002         Intel Corp, Santa Clara, CA, United States     67      <0.1%\n",
      "1003  KLA-Tencor Corporation, San Jose, CA 95134, 16...     67      <0.1%\n",
      "1004  Lawrence Berkeley National Laboratory, Berkele...     67      <0.1%\n"
     ]
    },
    {
     "data": {
      "text/html": [
       "<div>\n",
       "<style scoped>\n",
       "    .dataframe tbody tr th:only-of-type {\n",
       "        vertical-align: middle;\n",
       "    }\n",
       "\n",
       "    .dataframe tbody tr th {\n",
       "        vertical-align: top;\n",
       "    }\n",
       "\n",
       "    .dataframe thead th {\n",
       "        text-align: right;\n",
       "    }\n",
       "</style>\n",
       "<table border=\"1\" class=\"dataframe\">\n",
       "  <thead>\n",
       "    <tr style=\"text-align: right;\">\n",
       "      <th></th>\n",
       "      <th>Affiliation</th>\n",
       "      <th>Count</th>\n",
       "      <th>Percentage</th>\n",
       "    </tr>\n",
       "  </thead>\n",
       "  <tbody>\n",
       "    <tr>\n",
       "      <th>9995</th>\n",
       "      <td>Louisiana State University, United States</td>\n",
       "      <td>12</td>\n",
       "      <td>&lt;0.1%</td>\n",
       "    </tr>\n",
       "    <tr>\n",
       "      <th>9996</th>\n",
       "      <td>Lucent Technologies, Bell Laboratories Innovat...</td>\n",
       "      <td>12</td>\n",
       "      <td>&lt;0.1%</td>\n",
       "    </tr>\n",
       "    <tr>\n",
       "      <th>9997</th>\n",
       "      <td>Lucent Technologies, Orlando, FL, United States</td>\n",
       "      <td>12</td>\n",
       "      <td>&lt;0.1%</td>\n",
       "    </tr>\n",
       "    <tr>\n",
       "      <th>9998</th>\n",
       "      <td>Magnolia Optical Technologies Inc., 52-B Cummi...</td>\n",
       "      <td>12</td>\n",
       "      <td>&lt;0.1%</td>\n",
       "    </tr>\n",
       "    <tr>\n",
       "      <th>9999</th>\n",
       "      <td>Martin Marietta Electronics Laboratory, Syracu...</td>\n",
       "      <td>12</td>\n",
       "      <td>&lt;0.1%</td>\n",
       "    </tr>\n",
       "  </tbody>\n",
       "</table>\n",
       "</div>"
      ],
      "text/plain": [
       "                                            Affiliation  Count Percentage\n",
       "9995          Louisiana State University, United States     12      <0.1%\n",
       "9996  Lucent Technologies, Bell Laboratories Innovat...     12      <0.1%\n",
       "9997    Lucent Technologies, Orlando, FL, United States     12      <0.1%\n",
       "9998  Magnolia Optical Technologies Inc., 52-B Cummi...     12      <0.1%\n",
       "9999  Martin Marietta Electronics Laboratory, Syracu...     12      <0.1%"
      ]
     },
     "execution_count": 12,
     "metadata": {},
     "output_type": "execute_result"
    }
   ],
   "source": [
    "# take sample 2 (1,000 - 9,999)\n",
    "sample_df_2 = df_aff.iloc[1000:10000].copy()\n",
    "print(sample_df_2.head())\n",
    "sample_df_2.tail()"
   ]
  },
  {
   "cell_type": "code",
   "execution_count": 13,
   "metadata": {},
   "outputs": [],
   "source": [
    "# prepare for clustering deduplication\n",
    "\n",
    "affliation_list_2 = sample_df_2['Affiliation'].tolist() #for sample of 10,000 data entries.\n",
    "threshold = 0.90\n",
    "assigned = set()\n",
    "clusters = []"
   ]
  },
  {
   "cell_type": "code",
   "execution_count": 14,
   "metadata": {},
   "outputs": [],
   "source": [
    "# main cluster here\n",
    "\n",
    "for aff in affliation_list_2:\n",
    "    if aff in assigned:\n",
    "        continue\n",
    "    #start new cluster\n",
    "    cluster = [aff]\n",
    "    assigned.add(aff)\n",
    "    for other in affliation_list_2:\n",
    "        if other in assigned:\n",
    "            continue\n",
    "        if SequenceMatcher(None, aff, other).ratio() >= threshold:\n",
    "            cluster.append(other)\n",
    "            assigned.add(other)\n",
    "    clusters.append(cluster)"
   ]
  },
  {
   "cell_type": "code",
   "execution_count": 15,
   "metadata": {},
   "outputs": [],
   "source": [
    "records = []\n",
    "for idx, cluster in enumerate(clusters):\n",
    "    canonical = min(cluster, key=len)\n",
    "    for member in cluster:\n",
    "        records.append({\n",
    "            'Original Affiliation': member,\n",
    "            'Canonical Affiliation': canonical,\n",
    "            'Cluster ID': idx\n",
    "        })\n",
    "\n",
    "mapping_df = pd.DataFrame(records)"
   ]
  },
  {
   "cell_type": "code",
   "execution_count": 16,
   "metadata": {},
   "outputs": [],
   "source": [
    "# save to excel\n",
    "output_path_excel = '../data/output/unique_affiliation_dedupe_10k.csv'\n",
    "mapping_df.to_csv(output_path_excel, index = False)"
   ]
  }
 ],
 "metadata": {
  "kernelspec": {
   "display_name": "base",
   "language": "python",
   "name": "python3"
  },
  "language_info": {
   "codemirror_mode": {
    "name": "ipython",
    "version": 3
   },
   "file_extension": ".py",
   "mimetype": "text/x-python",
   "name": "python",
   "nbconvert_exporter": "python",
   "pygments_lexer": "ipython3",
   "version": "3.13.5"
  }
 },
 "nbformat": 4,
 "nbformat_minor": 2
}
