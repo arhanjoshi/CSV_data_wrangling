{
 "cells": [
  {
   "cell_type": "code",
   "execution_count": 74,
   "metadata": {},
   "outputs": [],
   "source": [
    "import pandas as pd \n",
    "import os\n",
    "from difflib import SequenceMatcher\n",
    "import ace_tools as tools"
   ]
  },
  {
   "cell_type": "code",
   "execution_count": 3,
   "metadata": {},
   "outputs": [
    {
     "name": "stdout",
     "output_type": "stream",
     "text": [
      "/Users/arhanjoshi/Desktop/Data Analyst Work/CSV_data_wrangling/Scopus_data/scripts\n"
     ]
    }
   ],
   "source": [
    "print(os.getcwd())"
   ]
  },
  {
   "cell_type": "code",
   "execution_count": 75,
   "metadata": {},
   "outputs": [],
   "source": [
    "file_path = r\"../data/processed/Unique Affiliation.xlsx\"\n",
    "df = pd.read_excel(file_path)"
   ]
  },
  {
   "cell_type": "code",
   "execution_count": 76,
   "metadata": {},
   "outputs": [
    {
     "data": {
      "text/html": [
       "<div>\n",
       "<style scoped>\n",
       "    .dataframe tbody tr th:only-of-type {\n",
       "        vertical-align: middle;\n",
       "    }\n",
       "\n",
       "    .dataframe tbody tr th {\n",
       "        vertical-align: top;\n",
       "    }\n",
       "\n",
       "    .dataframe thead th {\n",
       "        text-align: right;\n",
       "    }\n",
       "</style>\n",
       "<table border=\"1\" class=\"dataframe\">\n",
       "  <thead>\n",
       "    <tr style=\"text-align: right;\">\n",
       "      <th></th>\n",
       "      <th>Affiliation</th>\n",
       "      <th>Count</th>\n",
       "      <th>Percentage</th>\n",
       "    </tr>\n",
       "  </thead>\n",
       "  <tbody>\n",
       "    <tr>\n",
       "      <th>0</th>\n",
       "      <td>National Renewable Energy Laboratory, Golden, ...</td>\n",
       "      <td>1936</td>\n",
       "      <td>0.001968</td>\n",
       "    </tr>\n",
       "    <tr>\n",
       "      <th>1</th>\n",
       "      <td>Naval Research Laboratory, Washington, DC 2037...</td>\n",
       "      <td>1701</td>\n",
       "      <td>0.001729</td>\n",
       "    </tr>\n",
       "    <tr>\n",
       "      <th>2</th>\n",
       "      <td>AT and T Bell Laboratories, Murray Hill, NJ 07...</td>\n",
       "      <td>1550</td>\n",
       "      <td>0.001576</td>\n",
       "    </tr>\n",
       "    <tr>\n",
       "      <th>3</th>\n",
       "      <td>Sandia National Laboratories, Albuquerque, NM ...</td>\n",
       "      <td>1453</td>\n",
       "      <td>0.001477</td>\n",
       "    </tr>\n",
       "    <tr>\n",
       "      <th>4</th>\n",
       "      <td>Bell Laboratories, Murray Hill, NJ 07974, Unit...</td>\n",
       "      <td>1311</td>\n",
       "      <td>0.001333</td>\n",
       "    </tr>\n",
       "  </tbody>\n",
       "</table>\n",
       "</div>"
      ],
      "text/plain": [
       "                                         Affiliation  Count Percentage\n",
       "0  National Renewable Energy Laboratory, Golden, ...   1936   0.001968\n",
       "1  Naval Research Laboratory, Washington, DC 2037...   1701   0.001729\n",
       "2  AT and T Bell Laboratories, Murray Hill, NJ 07...   1550   0.001576\n",
       "3  Sandia National Laboratories, Albuquerque, NM ...   1453   0.001477\n",
       "4  Bell Laboratories, Murray Hill, NJ 07974, Unit...   1311   0.001333"
      ]
     },
     "execution_count": 76,
     "metadata": {},
     "output_type": "execute_result"
    }
   ],
   "source": [
    "df.head()"
   ]
  },
  {
   "cell_type": "code",
   "execution_count": null,
   "metadata": {},
   "outputs": [],
   "source": [
    "df['Affiliation'].str.split(',')"
   ]
  },
  {
   "cell_type": "code",
   "execution_count": null,
   "metadata": {},
   "outputs": [],
   "source": [
    "List(df['Affiliation'].iloc[281502: 281504])                     "
   ]
  },
  {
   "cell_type": "code",
   "execution_count": 56,
   "metadata": {},
   "outputs": [
    {
     "data": {
      "text/plain": [
       "['Zyvex Instruments, Richardson, TX, 75081, United States, Siemens Energy and Automation, Arlington, TX, United States',\n",
       " 'Zyvex Instruments, Richardson, TX, 75081, United States']"
      ]
     },
     "execution_count": 56,
     "metadata": {},
     "output_type": "execute_result"
    }
   ],
   "source": [
    "list(df['Affiliation'].iloc[281502: 281504])"
   ]
  },
  {
   "cell_type": "code",
   "execution_count": 21,
   "metadata": {},
   "outputs": [
    {
     "data": {
      "text/plain": [
       "['National Renewable Energy Laboratory, Golden, 80401, CO, United States',\n",
       " 'Naval Research Laboratory, Washington, DC 20375, United States',\n",
       " 'AT and T Bell Laboratories, Murray Hill, NJ 07974, United States',\n",
       " 'Sandia National Laboratories, Albuquerque, NM 87185, United States',\n",
       " 'Bell Laboratories, Murray Hill, NJ 07974, United States']"
      ]
     },
     "execution_count": 21,
     "metadata": {},
     "output_type": "execute_result"
    }
   ],
   "source": [
    "list(df[\"Affiliation\"][:5])"
   ]
  },
  {
   "cell_type": "code",
   "execution_count": 16,
   "metadata": {},
   "outputs": [
    {
     "data": {
      "text/plain": [
       "(281505, 3)"
      ]
     },
     "execution_count": 16,
     "metadata": {},
     "output_type": "execute_result"
    }
   ],
   "source": [
    "df.shape"
   ]
  },
  {
   "cell_type": "code",
   "execution_count": 57,
   "metadata": {},
   "outputs": [
    {
     "data": {
      "text/html": [
       "<div>\n",
       "<style scoped>\n",
       "    .dataframe tbody tr th:only-of-type {\n",
       "        vertical-align: middle;\n",
       "    }\n",
       "\n",
       "    .dataframe tbody tr th {\n",
       "        vertical-align: top;\n",
       "    }\n",
       "\n",
       "    .dataframe thead th {\n",
       "        text-align: right;\n",
       "    }\n",
       "</style>\n",
       "<table border=\"1\" class=\"dataframe\">\n",
       "  <thead>\n",
       "    <tr style=\"text-align: right;\">\n",
       "      <th></th>\n",
       "      <th>Affiliation</th>\n",
       "      <th>Count</th>\n",
       "      <th>Percentage</th>\n",
       "    </tr>\n",
       "  </thead>\n",
       "  <tbody>\n",
       "    <tr>\n",
       "      <th>0</th>\n",
       "      <td>National Renewable Energy Laboratory, Golden, ...</td>\n",
       "      <td>1936</td>\n",
       "      <td>0.001968</td>\n",
       "    </tr>\n",
       "    <tr>\n",
       "      <th>1</th>\n",
       "      <td>Naval Research Laboratory, Washington, DC 2037...</td>\n",
       "      <td>1701</td>\n",
       "      <td>0.001729</td>\n",
       "    </tr>\n",
       "    <tr>\n",
       "      <th>2</th>\n",
       "      <td>AT and T Bell Laboratories, Murray Hill, NJ 07...</td>\n",
       "      <td>1550</td>\n",
       "      <td>0.001576</td>\n",
       "    </tr>\n",
       "    <tr>\n",
       "      <th>3</th>\n",
       "      <td>Sandia National Laboratories, Albuquerque, NM ...</td>\n",
       "      <td>1453</td>\n",
       "      <td>0.001477</td>\n",
       "    </tr>\n",
       "    <tr>\n",
       "      <th>4</th>\n",
       "      <td>Bell Laboratories, Murray Hill, NJ 07974, Unit...</td>\n",
       "      <td>1311</td>\n",
       "      <td>0.001333</td>\n",
       "    </tr>\n",
       "  </tbody>\n",
       "</table>\n",
       "</div>"
      ],
      "text/plain": [
       "                                         Affiliation  Count Percentage\n",
       "0  National Renewable Energy Laboratory, Golden, ...   1936   0.001968\n",
       "1  Naval Research Laboratory, Washington, DC 2037...   1701   0.001729\n",
       "2  AT and T Bell Laboratories, Murray Hill, NJ 07...   1550   0.001576\n",
       "3  Sandia National Laboratories, Albuquerque, NM ...   1453   0.001477\n",
       "4  Bell Laboratories, Murray Hill, NJ 07974, Unit...   1311   0.001333"
      ]
     },
     "execution_count": 57,
     "metadata": {},
     "output_type": "execute_result"
    }
   ],
   "source": [
    "df.head()\n"
   ]
  },
  {
   "cell_type": "code",
   "execution_count": null,
   "metadata": {},
   "outputs": [
    {
     "data": {
      "text/plain": [
       "['National Renewable Energy Laboratory',\n",
       " ' Golden',\n",
       " ' 80401',\n",
       " ' CO',\n",
       " ' United States']"
      ]
     },
     "execution_count": 59,
     "metadata": {},
     "output_type": "execute_result"
    }
   ],
   "source": [
    "affliation = list(df['Affiliation'].str.split(',')[0])\n",
    "affliation"
   ]
  },
  {
   "cell_type": "markdown",
   "metadata": {},
   "source": [
    "first_parts = df['Affiliation'].apply(lambda s: s.split(',')[0])\n"
   ]
  },
  {
   "cell_type": "code",
   "execution_count": 60,
   "metadata": {},
   "outputs": [
    {
     "data": {
      "text/html": [
       "<div>\n",
       "<style scoped>\n",
       "    .dataframe tbody tr th:only-of-type {\n",
       "        vertical-align: middle;\n",
       "    }\n",
       "\n",
       "    .dataframe tbody tr th {\n",
       "        vertical-align: top;\n",
       "    }\n",
       "\n",
       "    .dataframe thead th {\n",
       "        text-align: right;\n",
       "    }\n",
       "</style>\n",
       "<table border=\"1\" class=\"dataframe\">\n",
       "  <thead>\n",
       "    <tr style=\"text-align: right;\">\n",
       "      <th></th>\n",
       "      <th>Affiliation</th>\n",
       "      <th>Count</th>\n",
       "      <th>Percentage</th>\n",
       "    </tr>\n",
       "  </thead>\n",
       "  <tbody>\n",
       "    <tr>\n",
       "      <th>0</th>\n",
       "      <td>National Renewable Energy Laboratory, Golden, ...</td>\n",
       "      <td>1936</td>\n",
       "      <td>0.001968</td>\n",
       "    </tr>\n",
       "    <tr>\n",
       "      <th>1</th>\n",
       "      <td>Naval Research Laboratory, Washington, DC 2037...</td>\n",
       "      <td>1701</td>\n",
       "      <td>0.001729</td>\n",
       "    </tr>\n",
       "    <tr>\n",
       "      <th>2</th>\n",
       "      <td>AT and T Bell Laboratories, Murray Hill, NJ 07...</td>\n",
       "      <td>1550</td>\n",
       "      <td>0.001576</td>\n",
       "    </tr>\n",
       "    <tr>\n",
       "      <th>3</th>\n",
       "      <td>Sandia National Laboratories, Albuquerque, NM ...</td>\n",
       "      <td>1453</td>\n",
       "      <td>0.001477</td>\n",
       "    </tr>\n",
       "    <tr>\n",
       "      <th>4</th>\n",
       "      <td>Bell Laboratories, Murray Hill, NJ 07974, Unit...</td>\n",
       "      <td>1311</td>\n",
       "      <td>0.001333</td>\n",
       "    </tr>\n",
       "  </tbody>\n",
       "</table>\n",
       "</div>"
      ],
      "text/plain": [
       "                                         Affiliation  Count Percentage\n",
       "0  National Renewable Energy Laboratory, Golden, ...   1936   0.001968\n",
       "1  Naval Research Laboratory, Washington, DC 2037...   1701   0.001729\n",
       "2  AT and T Bell Laboratories, Murray Hill, NJ 07...   1550   0.001576\n",
       "3  Sandia National Laboratories, Albuquerque, NM ...   1453   0.001477\n",
       "4  Bell Laboratories, Murray Hill, NJ 07974, Unit...   1311   0.001333"
      ]
     },
     "execution_count": 60,
     "metadata": {},
     "output_type": "execute_result"
    }
   ],
   "source": [
    "df.head()"
   ]
  },
  {
   "cell_type": "code",
   "execution_count": 70,
   "metadata": {},
   "outputs": [],
   "source": [
    "first_parts = df['Affiliation'].apply(lambda s: s.split(',')[0].strip().lower().replace(\" \",\"\").replace('&','and'))"
   ]
  },
  {
   "cell_type": "code",
   "execution_count": 73,
   "metadata": {},
   "outputs": [
    {
     "data": {
      "text/plain": [
       "66659"
      ]
     },
     "execution_count": 73,
     "metadata": {},
     "output_type": "execute_result"
    }
   ],
   "source": [
    "first_parts.nunique()"
   ]
  },
  {
   "cell_type": "code",
   "execution_count": 82,
   "metadata": {},
   "outputs": [],
   "source": [
    "# Sequence Master\n",
    "\n",
    "# convert excel file to csv file and save\n",
    "df_aff_excel = pd.read_excel('../data/processed/Unique Affiliation.xlsx')\n",
    "output_path = '../data/processed/unique_affiliation_uncleaned.csv'\n",
    "to_csv = df_aff.to_csv(output_path, index=False)"
   ]
  },
  {
   "cell_type": "code",
   "execution_count": 86,
   "metadata": {},
   "outputs": [
    {
     "data": {
      "text/html": [
       "<div>\n",
       "<style scoped>\n",
       "    .dataframe tbody tr th:only-of-type {\n",
       "        vertical-align: middle;\n",
       "    }\n",
       "\n",
       "    .dataframe tbody tr th {\n",
       "        vertical-align: top;\n",
       "    }\n",
       "\n",
       "    .dataframe thead th {\n",
       "        text-align: right;\n",
       "    }\n",
       "</style>\n",
       "<table border=\"1\" class=\"dataframe\">\n",
       "  <thead>\n",
       "    <tr style=\"text-align: right;\">\n",
       "      <th></th>\n",
       "      <th>Affiliation</th>\n",
       "      <th>Count</th>\n",
       "      <th>Percentage</th>\n",
       "    </tr>\n",
       "  </thead>\n",
       "  <tbody>\n",
       "    <tr>\n",
       "      <th>0</th>\n",
       "      <td>National Renewable Energy Laboratory, Golden, ...</td>\n",
       "      <td>1936</td>\n",
       "      <td>0.00196822776136458</td>\n",
       "    </tr>\n",
       "    <tr>\n",
       "      <th>1</th>\n",
       "      <td>Naval Research Laboratory, Washington, DC 2037...</td>\n",
       "      <td>1701</td>\n",
       "      <td>0.00172931581719068</td>\n",
       "    </tr>\n",
       "    <tr>\n",
       "      <th>2</th>\n",
       "      <td>AT and T Bell Laboratories, Murray Hill, NJ 07...</td>\n",
       "      <td>1550</td>\n",
       "      <td>0.00157580218497681</td>\n",
       "    </tr>\n",
       "    <tr>\n",
       "      <th>3</th>\n",
       "      <td>Sandia National Laboratories, Albuquerque, NM ...</td>\n",
       "      <td>1453</td>\n",
       "      <td>0.00147718746759439</td>\n",
       "    </tr>\n",
       "    <tr>\n",
       "      <th>4</th>\n",
       "      <td>Bell Laboratories, Murray Hill, NJ 07974, Unit...</td>\n",
       "      <td>1311</td>\n",
       "      <td>0.0013328236545191</td>\n",
       "    </tr>\n",
       "  </tbody>\n",
       "</table>\n",
       "</div>"
      ],
      "text/plain": [
       "                                         Affiliation  Count  \\\n",
       "0  National Renewable Energy Laboratory, Golden, ...   1936   \n",
       "1  Naval Research Laboratory, Washington, DC 2037...   1701   \n",
       "2  AT and T Bell Laboratories, Murray Hill, NJ 07...   1550   \n",
       "3  Sandia National Laboratories, Albuquerque, NM ...   1453   \n",
       "4  Bell Laboratories, Murray Hill, NJ 07974, Unit...   1311   \n",
       "\n",
       "            Percentage  \n",
       "0  0.00196822776136458  \n",
       "1  0.00172931581719068  \n",
       "2  0.00157580218497681  \n",
       "3  0.00147718746759439  \n",
       "4   0.0013328236545191  "
      ]
     },
     "execution_count": 86,
     "metadata": {},
     "output_type": "execute_result"
    }
   ],
   "source": [
    "# load csv\n",
    "df_aff = pd.read_csv('../data/processed/unique_affiliation_uncleaned.csv')\n",
    "df_aff.head()"
   ]
  },
  {
   "cell_type": "code",
   "execution_count": 87,
   "metadata": {},
   "outputs": [],
   "source": [
    "# prepare for clustering deduplication\n",
    "\n",
    "affliation_list = df['Affiliation'].tolist()\n",
    "threshold = 0.90\n",
    "assigned = set()\n",
    "clusters = []"
   ]
  },
  {
   "cell_type": "code",
   "execution_count": 88,
   "metadata": {},
   "outputs": [
    {
     "ename": "KeyboardInterrupt",
     "evalue": "",
     "output_type": "error",
     "traceback": [
      "\u001b[31m---------------------------------------------------------------------------\u001b[39m",
      "\u001b[31mKeyboardInterrupt\u001b[39m                         Traceback (most recent call last)",
      "\u001b[36mCell\u001b[39m\u001b[36m \u001b[39m\u001b[32mIn[88]\u001b[39m\u001b[32m, line 10\u001b[39m\n\u001b[32m      8\u001b[39m \u001b[38;5;28;01mif\u001b[39;00m other \u001b[38;5;129;01min\u001b[39;00m assigned:\n\u001b[32m      9\u001b[39m     \u001b[38;5;28;01mcontinue\u001b[39;00m\n\u001b[32m---> \u001b[39m\u001b[32m10\u001b[39m \u001b[38;5;28;01mif\u001b[39;00m \u001b[43mSequenceMatcher\u001b[49m\u001b[43m(\u001b[49m\u001b[38;5;28;43;01mNone\u001b[39;49;00m\u001b[43m,\u001b[49m\u001b[43m \u001b[49m\u001b[43maff\u001b[49m\u001b[43m,\u001b[49m\u001b[43m \u001b[49m\u001b[43mother\u001b[49m\u001b[43m)\u001b[49m\u001b[43m.\u001b[49m\u001b[43mratio\u001b[49m\u001b[43m(\u001b[49m\u001b[43m)\u001b[49m >= threshold:\n\u001b[32m     11\u001b[39m     cluster.append(other)\n\u001b[32m     12\u001b[39m     assigned.add(other)\n",
      "\u001b[36mFile \u001b[39m\u001b[32m/Library/Frameworks/Python.framework/Versions/3.12/lib/python3.12/difflib.py:619\u001b[39m, in \u001b[36mSequenceMatcher.ratio\u001b[39m\u001b[34m(self)\u001b[39m\n\u001b[32m    597\u001b[39m \u001b[38;5;28;01mdef\u001b[39;00m\u001b[38;5;250m \u001b[39m\u001b[34mratio\u001b[39m(\u001b[38;5;28mself\u001b[39m):\n\u001b[32m    598\u001b[39m \u001b[38;5;250m    \u001b[39m\u001b[33;03m\"\"\"Return a measure of the sequences' similarity (float in [0,1]).\u001b[39;00m\n\u001b[32m    599\u001b[39m \n\u001b[32m    600\u001b[39m \u001b[33;03m    Where T is the total number of elements in both sequences, and\u001b[39;00m\n\u001b[32m   (...)\u001b[39m\u001b[32m    616\u001b[39m \u001b[33;03m    1.0\u001b[39;00m\n\u001b[32m    617\u001b[39m \u001b[33;03m    \"\"\"\u001b[39;00m\n\u001b[32m--> \u001b[39m\u001b[32m619\u001b[39m     matches = \u001b[38;5;28msum\u001b[39m(triple[-\u001b[32m1\u001b[39m] \u001b[38;5;28;01mfor\u001b[39;00m triple \u001b[38;5;129;01min\u001b[39;00m \u001b[38;5;28;43mself\u001b[39;49m\u001b[43m.\u001b[49m\u001b[43mget_matching_blocks\u001b[49m\u001b[43m(\u001b[49m\u001b[43m)\u001b[49m)\n\u001b[32m    620\u001b[39m     \u001b[38;5;28;01mreturn\u001b[39;00m _calculate_ratio(matches, \u001b[38;5;28mlen\u001b[39m(\u001b[38;5;28mself\u001b[39m.a) + \u001b[38;5;28mlen\u001b[39m(\u001b[38;5;28mself\u001b[39m.b))\n",
      "\u001b[36mFile \u001b[39m\u001b[32m/Library/Frameworks/Python.framework/Versions/3.12/lib/python3.12/difflib.py:454\u001b[39m, in \u001b[36mSequenceMatcher.get_matching_blocks\u001b[39m\u001b[34m(self)\u001b[39m\n\u001b[32m    452\u001b[39m \u001b[38;5;28;01mwhile\u001b[39;00m queue:\n\u001b[32m    453\u001b[39m     alo, ahi, blo, bhi = queue.pop()\n\u001b[32m--> \u001b[39m\u001b[32m454\u001b[39m     i, j, k = x = \u001b[38;5;28;43mself\u001b[39;49m\u001b[43m.\u001b[49m\u001b[43mfind_longest_match\u001b[49m\u001b[43m(\u001b[49m\u001b[43malo\u001b[49m\u001b[43m,\u001b[49m\u001b[43m \u001b[49m\u001b[43mahi\u001b[49m\u001b[43m,\u001b[49m\u001b[43m \u001b[49m\u001b[43mblo\u001b[49m\u001b[43m,\u001b[49m\u001b[43m \u001b[49m\u001b[43mbhi\u001b[49m\u001b[43m)\u001b[49m\n\u001b[32m    455\u001b[39m     \u001b[38;5;66;03m# a[alo:i] vs b[blo:j] unknown\u001b[39;00m\n\u001b[32m    456\u001b[39m     \u001b[38;5;66;03m# a[i:i+k] same as b[j:j+k]\u001b[39;00m\n\u001b[32m    457\u001b[39m     \u001b[38;5;66;03m# a[i+k:ahi] vs b[j+k:bhi] unknown\u001b[39;00m\n\u001b[32m    458\u001b[39m     \u001b[38;5;28;01mif\u001b[39;00m k:   \u001b[38;5;66;03m# if k is 0, there was no matching block\u001b[39;00m\n",
      "\u001b[36mFile \u001b[39m\u001b[32m/Library/Frameworks/Python.framework/Versions/3.12/lib/python3.12/difflib.py:385\u001b[39m, in \u001b[36mSequenceMatcher.find_longest_match\u001b[39m\u001b[34m(self, alo, ahi, blo, bhi)\u001b[39m\n\u001b[32m    383\u001b[39m \u001b[38;5;28;01mif\u001b[39;00m j >= bhi:\n\u001b[32m    384\u001b[39m     \u001b[38;5;28;01mbreak\u001b[39;00m\n\u001b[32m--> \u001b[39m\u001b[32m385\u001b[39m k = newj2len[j] = \u001b[43mj2lenget\u001b[49m\u001b[43m(\u001b[49m\u001b[43mj\u001b[49m\u001b[43m-\u001b[49m\u001b[32;43m1\u001b[39;49m\u001b[43m,\u001b[49m\u001b[43m \u001b[49m\u001b[32;43m0\u001b[39;49m\u001b[43m)\u001b[49m + \u001b[32m1\u001b[39m\n\u001b[32m    386\u001b[39m \u001b[38;5;28;01mif\u001b[39;00m k > bestsize:\n\u001b[32m    387\u001b[39m     besti, bestj, bestsize = i-k+\u001b[32m1\u001b[39m, j-k+\u001b[32m1\u001b[39m, k\n",
      "\u001b[31mKeyboardInterrupt\u001b[39m: "
     ]
    }
   ],
   "source": [
    "# main cluster here\n",
    "\n",
    "for aff in affliation_list:\n",
    "    if aff in assigned:\n",
    "        continue\n",
    "    #start new cluster\n",
    "    cluster = [aff]\n",
    "    assigned.add(aff)\n",
    "    for other in affliation_list:\n",
    "        if other in assigned:\n",
    "            continue\n",
    "        if SequenceMatcher(None, aff, other).ratio() >= threshold:\n",
    "            cluster.append(other)\n",
    "            assigned.add(other)\n",
    "    clusters.append(cluster)"
   ]
  },
  {
   "cell_type": "code",
   "execution_count": null,
   "metadata": {},
   "outputs": [],
   "source": [
    "# Build mapping of each original to its canonical form (shortest string)\n",
    "\n",
    "records = []\n",
    "for idx, cluster in enumerate(clusters):\n",
    "    canonical = max(clusters, key=len)\n",
    "    for memeber in cluster:\n",
    "        records.append({\n",
    "            'Original Affiliation': member,\n",
    "            'Canonical Affiliation': canonical,\n",
    "            'Cluster ID': idx\n",
    "        })\n",
    "\n",
    "mapping_df = pd.DataFrame(records)"
   ]
  },
  {
   "cell_type": "code",
   "execution_count": null,
   "metadata": {},
   "outputs": [],
   "source": [
    "# save to excel\n",
    "output_path_excel = '../data/processed/unique_affiliation_dedupe.xslx'\n",
    "mapping_df.to_excel(output_path_excel, index = False)"
   ]
  },
  {
   "cell_type": "code",
   "execution_count": null,
   "metadata": {},
   "outputs": [],
   "source": [
    "# display mapping to user\n",
    "tools.display_dataframe_to_user(\"Deduplicated Affiliation Mapping\", mapping_df)\n",
    "\n",
    "print(f\"Excel file created: {output_path_excel}\")"
   ]
  }
 ],
 "metadata": {
  "kernelspec": {
   "display_name": "Python 3",
   "language": "python",
   "name": "python3"
  },
  "language_info": {
   "codemirror_mode": {
    "name": "ipython",
    "version": 3
   },
   "file_extension": ".py",
   "mimetype": "text/x-python",
   "name": "python",
   "nbconvert_exporter": "python",
   "pygments_lexer": "ipython3",
   "version": "3.12.6"
  }
 },
 "nbformat": 4,
 "nbformat_minor": 2
}
